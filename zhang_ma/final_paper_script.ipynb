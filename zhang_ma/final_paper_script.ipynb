{
 "cells": [
  {
   "cell_type": "code",
   "execution_count": 1,
   "metadata": {},
   "outputs": [],
   "source": [
    "import pandas as pd\n",
    "import numpy as np\n",
    "import matplotlib.pyplot as plt\n",
    "from scipy import stats\n",
    "import math\n",
    "import seaborn as sns # for data visualization\n",
    "import pickle\n",
    "import datetime\n",
    "import copy\n",
    "import statsmodels.api as sm # linear regression \n",
    "from statsmodels.stats.proportion import proportions_ztest #proportion z score test\n",
    "from scipy.special import logit, expit\n",
    "from scipy.stats import normaltest\n",
    "# stats.ttest_ind  independent t test\n",
    "import pingouin as pg\n",
    "from matplotlib import collections as matcoll\n",
    "import matplotlib\n",
    "import ast"
   ]
  },
  {
   "cell_type": "markdown",
   "metadata": {},
   "source": [
    "## research participation availability "
   ]
  },
  {
   "cell_type": "code",
   "execution_count": 13,
   "metadata": {},
   "outputs": [
    {
     "data": {
      "text/plain": [
       "Index(['Study name index', 'Study Type', 'Credits', 'Duration', 'Participated',\n",
       "       'Free Spaces', 'Credits Granted', 'total credit'],\n",
       "      dtype='object')"
      ]
     },
     "execution_count": 13,
     "metadata": {},
     "output_type": "execute_result"
    }
   ],
   "source": [
    "research_availability = pd.read_excel('research availability_11597hours.xlsx',sheet_name='study_summary_report')\n",
    "research_availability.columns"
   ]
  },
  {
   "cell_type": "code",
   "execution_count": 18,
   "metadata": {},
   "outputs": [
    {
     "data": {
      "text/plain": [
       "array([0.5, 1. , 1.5, 2. , nan])"
      ]
     },
     "execution_count": 18,
     "metadata": {},
     "output_type": "execute_result"
    }
   ],
   "source": [
    "np.unique(research_availability['Credits'])"
   ]
  },
  {
   "cell_type": "markdown",
   "metadata": {},
   "source": [
    "research participation opportunities involved a time\n",
    "commitment of 0.5, 1, 1.5, or 2 hours"
   ]
  },
  {
   "cell_type": "code",
   "execution_count": 20,
   "metadata": {},
   "outputs": [
    {
     "data": {
      "text/plain": [
       "0.9122807017543859"
      ]
     },
     "execution_count": 20,
     "metadata": {},
     "output_type": "execute_result"
    }
   ],
   "source": [
    "len(research_availability[research_availability['Credits']<1.1])/len(research_availability['Credits'])"
   ]
  },
  {
   "cell_type": "markdown",
   "metadata": {},
   "source": [
    "The vast majority of participation opportunities took 0.5 hours or 1\n",
    "hour. "
   ]
  },
  {
   "cell_type": "markdown",
   "metadata": {},
   "source": [
    "Total research opportunities is 11597 hours, and there are 749 students who had enrolled in Introduction to Psychology course in Spring 2021. So research participation opportunities is an average of 15 hours per student. "
   ]
  },
  {
   "cell_type": "code",
   "execution_count": 33,
   "metadata": {},
   "outputs": [
    {
     "data": {
      "text/plain": [
       "15.483311081441922"
      ]
     },
     "execution_count": 33,
     "metadata": {},
     "output_type": "execute_result"
    }
   ],
   "source": [
    "11597/749"
   ]
  },
  {
   "cell_type": "markdown",
   "metadata": {},
   "source": [
    "## total participants in online study"
   ]
  },
  {
   "cell_type": "code",
   "execution_count": 2,
   "metadata": {},
   "outputs": [
    {
     "data": {
      "text/plain": [
       "Index(['SUB_INDEX_194', 'age_year', 'gender', 'Total credits',\n",
       "       'date list KeepSameDate', 'credit list KeepSameDate',\n",
       "       'date granted list', 'credit list', 'delta progress',\n",
       "       'cumulative progress', 'AcadeProcFreq_mean',\n",
       "       'DiscountRate_lnk_multistart_NoRandomResponseFilter',\n",
       "       'DiscountRate_lnk_multistart_RandomResponseFilterKarolina',\n",
       "       'RiskAttitude_lnAlpha_multistart1_NoRandomResponseFilter',\n",
       "       'RiskAttitude_lnAlpha_multistart1_KarolinaFilterpoint4',\n",
       "       'InterTemporalTask_alwayschoose1or2',\n",
       "       'InterTemporalTask_failattentioncheckmorethanonce',\n",
       "       'RiskAttitudeTask_alwayschoose1or2',\n",
       "       'RiskAttitudeTask_failattentioncheckmorethanonce', 'RiskTakingScore',\n",
       "       'ImpulsivityScore', 'PerfectionismScore_Hetwitt_SelfOriented',\n",
       "       'PerfectionismScore_Hetwitt_SocialOriented', 'PerfectionismScore_Frost',\n",
       "       'SelfControlScore', 'RiskTakingScore_Ethical',\n",
       "       'RiskTakingScore_Finantial', 'RiskTakingScore_HealthSafety',\n",
       "       'RiskTakingScore_Recreational', 'RiskTakingScore_Social',\n",
       "       'RiskPerceptionScore', 'RiskPerceptionScore_Ethical',\n",
       "       'RiskPerceptionScore_Finantial', 'RiskPerceptionScore_HealthSafety',\n",
       "       'RiskPerceptionScore_Recreational', 'RiskPerceptionScore_Social',\n",
       "       'PerfectionismScore_Frost_ConcernMistakes',\n",
       "       'PerfectionismScore_Frost_Douts',\n",
       "       'PerfectionismScore_Frost_PersonalStandard',\n",
       "       'PerfectionismScore_Frost_ParentalExpectation',\n",
       "       'PerfectionismScore_Frost_ParentalCriticism',\n",
       "       'PerfectionismScore_Frost_Organization', 'MaladaptivePerfection',\n",
       "       'AdaptivePerfection', 'SatifactionTimeAllocationWay',\n",
       "       'AffectiveRegretTimeAllocationWay', 'CognitiveRegretTimeAllocationWay',\n",
       "       'AttributeProcInternal', 'AttributeProcStable', 'AttributeProControl',\n",
       "       'AttributeProcControl', 'AttributeProcMean',\n",
       "       'ReasonProc_ExcitingLastMoment', 'ReasonProc_TimeManagement',\n",
       "       'ReasonProc_TaskAversiveness', 'ReasonProc_Laziness',\n",
       "       'TotalCreditSatisfaction', 'AttributeSuccessFillRequi_Internal',\n",
       "       'AttributeSuccessFillRequi_Stable', 'AttributeSuccessFillRequi_Control',\n",
       "       'AttributeSuccessFillRequi_Mean', 'EduCommi', 'race', 'race_other',\n",
       "       'year_in_college', 'intended_or_current_major', 'way_allocate_time',\n",
       "       'TextReport_cause_procrastination', 'ReasonProc_ExcitingLastMoment_1',\n",
       "       'ReasonProc_ExcitingLastMoment_2', 'ReasonProc_TimeManagement_3',\n",
       "       'ReasonProc_TimeManagement_4', 'ReasonProc_TimeManagement_5',\n",
       "       'ReasonProc_TaskAversiveness_6', 'ReasonProc_TaskAversiveness_7',\n",
       "       'ReasonProc_TaskAversiveness_8', 'ReasonProc_TaskAversiveness_9',\n",
       "       'ReasonProc_Laziness_10', 'ReasonProc_Laziness_11',\n",
       "       'ReasonProc_Laziness_12', 'GPS_student'],\n",
       "      dtype='object')"
      ]
     },
     "execution_count": 2,
     "metadata": {},
     "output_type": "execute_result"
    }
   ],
   "source": [
    "FollowUpStudymatrixDf_finalpaper = pd.read_csv('FollowUpStudymatrixDf_finalpaper.csv')\n",
    "FollowUpStudymatrixDf_finalpaper.columns"
   ]
  },
  {
   "cell_type": "markdown",
   "metadata": {},
   "source": [
    "all the participates who joined the online study"
   ]
  },
  {
   "cell_type": "code",
   "execution_count": 3,
   "metadata": {},
   "outputs": [
    {
     "data": {
      "text/plain": [
       "194"
      ]
     },
     "execution_count": 3,
     "metadata": {},
     "output_type": "execute_result"
    }
   ],
   "source": [
    "len(FollowUpStudymatrixDf_finalpaper)"
   ]
  },
  {
   "cell_type": "markdown",
   "metadata": {},
   "source": [
    "the number of participants who completed less than 7 hours of research participation"
   ]
  },
  {
   "cell_type": "code",
   "execution_count": 7,
   "metadata": {},
   "outputs": [
    {
     "data": {
      "text/plain": [
       "21"
      ]
     },
     "execution_count": 7,
     "metadata": {},
     "output_type": "execute_result"
    }
   ],
   "source": [
    "len(FollowUpStudymatrixDf_finalpaper[FollowUpStudymatrixDf_finalpaper['Total credits']<7])"
   ]
  },
  {
   "cell_type": "markdown",
   "metadata": {},
   "source": [
    "the number of participants who completed more than 7 hours of research participation"
   ]
  },
  {
   "cell_type": "code",
   "execution_count": 8,
   "metadata": {},
   "outputs": [
    {
     "data": {
      "text/plain": [
       "80"
      ]
     },
     "execution_count": 8,
     "metadata": {},
     "output_type": "execute_result"
    }
   ],
   "source": [
    "len(FollowUpStudymatrixDf_finalpaper)-len(FollowUpStudymatrixDf_finalpaper[FollowUpStudymatrixDf_finalpaper['Total credits']<7])-93"
   ]
  },
  {
   "cell_type": "markdown",
   "metadata": {},
   "source": [
    "## participants met their 7-hour requirement and did not\n",
    "continue to do more research sessions beyond the requirement"
   ]
  },
  {
   "cell_type": "code",
   "execution_count": 14,
   "metadata": {},
   "outputs": [
    {
     "data": {
      "text/plain": [
       "Index(['SUB_INDEX_SUBSET_93', 'SUB_INDEX_194', 'age_year', 'gender',\n",
       "       'Total credits', 'date list KeepSameDate', 'credit list KeepSameDate',\n",
       "       'date granted list', 'credit list', 'delta progress',\n",
       "       'cumulative progress', 'AcadeProcFreq_mean', 'DiscountRate_lnk',\n",
       "       'RiskAttitude_lnAlpha', 'InterTemporalTask_alwayschoose1or2',\n",
       "       'InterTemporalTask_failattentioncheckmorethanonce',\n",
       "       'RiskAttitudeTask_alwayschoose1or2',\n",
       "       'RiskAttitudeTask_failattentioncheckmorethanonce', 'RiskTakingScore',\n",
       "       'ImpulsivityScore', 'PerfectionismScore_Hetwitt_SelfOriented',\n",
       "       'PerfectionismScore_Hetwitt_SocialOriented', 'PerfectionismScore_Frost',\n",
       "       'SelfControlScore', 'RiskTakingScore_Ethical',\n",
       "       'RiskTakingScore_Finantial', 'RiskTakingScore_HealthSafety',\n",
       "       'RiskTakingScore_Recreational', 'RiskTakingScore_Social',\n",
       "       'RiskPerceptionScore', 'RiskPerceptionScore_Ethical',\n",
       "       'RiskPerceptionScore_Finantial', 'RiskPerceptionScore_HealthSafety',\n",
       "       'RiskPerceptionScore_Recreational', 'RiskPerceptionScore_Social',\n",
       "       'PerfectionismScore_Frost_ConcernMistakes',\n",
       "       'PerfectionismScore_Frost_Douts',\n",
       "       'PerfectionismScore_Frost_PersonalStandard',\n",
       "       'PerfectionismScore_Frost_ParentalExpectation',\n",
       "       'PerfectionismScore_Frost_ParentalCriticism',\n",
       "       'PerfectionismScore_Frost_Organization', 'MaladaptivePerfection',\n",
       "       'AdaptivePerfection', 'SatifactionTimeAllocationWay',\n",
       "       'AffectiveRegretTimeAllocationWay', 'CognitiveRegretTimeAllocationWay',\n",
       "       'AttributeProcInternal', 'AttributeProcStable', 'AttributeProControl',\n",
       "       'AttributeProcControl', 'AttributeProcMean',\n",
       "       'ReasonProc_ExcitingLastMoment', 'ReasonProc_TimeManagement',\n",
       "       'ReasonProc_TaskAversiveness', 'ReasonProc_Laziness',\n",
       "       'TotalCreditSatisfaction', 'AttributeSuccessFillRequi_Internal',\n",
       "       'AttributeSuccessFillRequi_Stable', 'AttributeSuccessFillRequi_Control',\n",
       "       'AttributeSuccessFillRequi_Mean', 'EduCommi', 'race', 'race_other',\n",
       "       'year_in_college', 'intended_or_current_major', 'way_allocate_time',\n",
       "       'TextReport_cause_procrastination', 'ReasonProc_ExcitingLastMoment_1',\n",
       "       'ReasonProc_ExcitingLastMoment_2', 'ReasonProc_TimeManagement_3',\n",
       "       'ReasonProc_TimeManagement_4', 'ReasonProc_TimeManagement_5',\n",
       "       'ReasonProc_TaskAversiveness_6', 'ReasonProc_TaskAversiveness_7',\n",
       "       'ReasonProc_TaskAversiveness_8', 'ReasonProc_TaskAversiveness_9',\n",
       "       'ReasonProc_Laziness_10', 'ReasonProc_Laziness_11',\n",
       "       'ReasonProc_Laziness_12', 'GPS_student'],\n",
       "      dtype='object')"
      ]
     },
     "execution_count": 14,
     "metadata": {},
     "output_type": "execute_result"
    }
   ],
   "source": [
    "FollowUpStudymatrixDf_7Credit = pd.read_csv('FollowUpStudymatrixDf_finalpaper_loose7Credit.csv')\n",
    "FollowUpStudymatrixDf_7Credit.columns"
   ]
  },
  {
   "cell_type": "markdown",
   "metadata": {},
   "source": [
    "sample size "
   ]
  },
  {
   "cell_type": "code",
   "execution_count": 58,
   "metadata": {},
   "outputs": [
    {
     "data": {
      "text/plain": [
       "93"
      ]
     },
     "execution_count": 58,
     "metadata": {},
     "output_type": "execute_result"
    }
   ],
   "source": [
    "len(FollowUpStudymatrixDf_7Credit)"
   ]
  },
  {
   "cell_type": "markdown",
   "metadata": {},
   "source": [
    "### each subject's research times"
   ]
  },
  {
   "cell_type": "code",
   "execution_count": 27,
   "metadata": {},
   "outputs": [],
   "source": [
    "research_times = []\n",
    "for ii in range(len(FollowUpStudymatrixDf_7Credit)):\n",
    "    research_times.append(len(ast.literal_eval(FollowUpStudymatrixDf_7Credit['credit list KeepSameDate'][ii])))"
   ]
  },
  {
   "cell_type": "code",
   "execution_count": 29,
   "metadata": {},
   "outputs": [
    {
     "data": {
      "text/plain": [
       "6"
      ]
     },
     "execution_count": 29,
     "metadata": {},
     "output_type": "execute_result"
    }
   ],
   "source": [
    "min(research_times)"
   ]
  },
  {
   "cell_type": "code",
   "execution_count": 31,
   "metadata": {},
   "outputs": [
    {
     "data": {
      "text/plain": [
       "10.0"
      ]
     },
     "execution_count": 31,
     "metadata": {},
     "output_type": "execute_result"
    }
   ],
   "source": [
    "np.median(research_times)"
   ]
  },
  {
   "cell_type": "code",
   "execution_count": 32,
   "metadata": {},
   "outputs": [
    {
     "data": {
      "text/plain": [
       "12"
      ]
     },
     "execution_count": 32,
     "metadata": {},
     "output_type": "execute_result"
    }
   ],
   "source": [
    "max(research_times)"
   ]
  },
  {
   "cell_type": "markdown",
   "metadata": {},
   "source": [
    "all students\n",
    "participated at least 6 times, with a median of 10 times, maximum times is 12."
   ]
  },
  {
   "cell_type": "markdown",
   "metadata": {},
   "source": [
    "### indices of procrastination"
   ]
  },
  {
   "cell_type": "markdown",
   "metadata": {},
   "source": [
    "Mean Unit Completion Day (MUCD)"
   ]
  },
  {
   "cell_type": "code",
   "execution_count": 16,
   "metadata": {},
   "outputs": [],
   "source": [
    "# since the total credit for some subjects is 7.5 or 8. because the last available participation for\n",
    "# them to reach 7 will make them have more than 7 credit. For example, 6.5, then they participate for 1 credit, and get 7.5 finally.\n",
    "# So for mean paragraph completion day. We consider the total credit to be 7. So for the last >0 credit in delta progress,\n",
    "# we crafted to be the [value - (total credit-7)], then this delta progress we call it DeltaProgForMPCD\n",
    "\n",
    "MUCD = []\n",
    "DeltaProgForMPCD = []\n",
    "\n",
    "for ii in range(len(FollowUpStudymatrixDf_7Credit)): \n",
    "    temp = copy.deepcopy(ast.literal_eval(FollowUpStudymatrixDf_7Credit['delta progress'][ii]))\n",
    "    ls = [i for i, e in enumerate(temp) if e > 0]\n",
    "    temp[ls[-1]] = temp[ls[-1]]-(FollowUpStudymatrixDf_7Credit['Total credits'][ii]-7)\n",
    "    DeltaProgForMPCD.append(temp)\n",
    "    \n",
    "    tempsum = 0\n",
    "    for index in range(len(temp)):\n",
    "        tempsum = tempsum + temp[index]*(index)\n",
    "    #print(tempsum/7)\n",
    "    MUCD.append(tempsum/7)"
   ]
  },
  {
   "cell_type": "code",
   "execution_count": 17,
   "metadata": {},
   "outputs": [],
   "source": [
    "FollowUpStudymatrixDf_7Credit['MUCD'] = MUCD\n",
    "FollowUpStudymatrixDf_7Credit['DeltaProgForMPCD'] = DeltaProgForMPCD"
   ]
  },
  {
   "cell_type": "markdown",
   "metadata": {},
   "source": [
    "task completion day"
   ]
  },
  {
   "cell_type": "code",
   "execution_count": 18,
   "metadata": {},
   "outputs": [],
   "source": [
    "TaskCompletionDay = []\n",
    "\n",
    "for ii in range(len(FollowUpStudymatrixDf_7Credit)):\n",
    "#for ii in range(10):    \n",
    "    temp = ast.literal_eval(FollowUpStudymatrixDf_7Credit['cumulative progress'][ii])\n",
    "    #print(temp)\n",
    "    res = next(x for x, val in enumerate(temp)\n",
    "                                  if val >=7)\n",
    "    #print(res)\n",
    "    TaskCompletionDay.append(res)  "
   ]
  },
  {
   "cell_type": "code",
   "execution_count": 19,
   "metadata": {},
   "outputs": [],
   "source": [
    "FollowUpStudymatrixDf_7Credit['TaskCompletionDay'] = TaskCompletionDay"
   ]
  },
  {
   "cell_type": "markdown",
   "metadata": {},
   "source": [
    "hours of research participation in the last third of the semester"
   ]
  },
  {
   "cell_type": "code",
   "execution_count": 20,
   "metadata": {},
   "outputs": [],
   "source": [
    "creditlast5weeks = []\n",
    "for ii in range(len(FollowUpStudymatrixDf_7Credit)):\n",
    "    temp = FollowUpStudymatrixDf_7Credit['DeltaProgForMPCD'][ii]\n",
    "    creditlast5weeks.append(sum(temp[-35:len(temp)]))\n",
    "        "
   ]
  },
  {
   "cell_type": "code",
   "execution_count": 21,
   "metadata": {},
   "outputs": [],
   "source": [
    "FollowUpStudymatrixDf_7Credit['creditlast5weeks'] = creditlast5weeks"
   ]
  },
  {
   "cell_type": "markdown",
   "metadata": {},
   "source": [
    "day of halfway point (median of the time course of work progress)"
   ]
  },
  {
   "cell_type": "code",
   "execution_count": 22,
   "metadata": {},
   "outputs": [],
   "source": [
    "HalfwayDayofParticipation = np.zeros(len(FollowUpStudymatrixDf_7Credit))\n",
    "# get the index of the first value above 0.5 in cumulative progress, that is the day\n",
    "for ii in range(len(FollowUpStudymatrixDf_7Credit)):\n",
    "    cumproisub = ast.literal_eval(FollowUpStudymatrixDf_7Credit['cumulative progress'][ii])\n",
    "    jj=0;\n",
    "    while jj<len(cumproisub):\n",
    "        if cumproisub[jj]>=3.5:\n",
    "            HalfwayDayofParticipation[ii] = jj\n",
    "            break\n",
    "        jj = jj+1"
   ]
  },
  {
   "cell_type": "code",
   "execution_count": 23,
   "metadata": {},
   "outputs": [],
   "source": [
    "FollowUpStudymatrixDf_7Credit['HalfwayDayofParticipation'] = HalfwayDayofParticipation"
   ]
  },
  {
   "cell_type": "markdown",
   "metadata": {},
   "source": [
    "### participation exclusion"
   ]
  },
  {
   "cell_type": "markdown",
   "metadata": {},
   "source": [
    "Based on pre-registered criteria for delay discounting task, we excluded participants who \n",
    "\n",
    "a) failed two or more of the five attention check questions;  "
   ]
  },
  {
   "cell_type": "code",
   "execution_count": 34,
   "metadata": {},
   "outputs": [
    {
     "data": {
      "text/plain": [
       "3"
      ]
     },
     "execution_count": 34,
     "metadata": {},
     "output_type": "execute_result"
    }
   ],
   "source": [
    "np.sum(~np.isnan(FollowUpStudymatrixDf_7Credit['InterTemporalTask_failattentioncheckmorethanonce']))"
   ]
  },
  {
   "cell_type": "markdown",
   "metadata": {},
   "source": [
    "3 subjects excluded and their index:"
   ]
  },
  {
   "cell_type": "code",
   "execution_count": 46,
   "metadata": {},
   "outputs": [
    {
     "data": {
      "text/plain": [
       "[17, 24, 81]"
      ]
     },
     "execution_count": 46,
     "metadata": {},
     "output_type": "execute_result"
    }
   ],
   "source": [
    "nonnan_indices = pd.notnull(FollowUpStudymatrixDf_7Credit['InterTemporalTask_failattentioncheckmorethanonce'])\n",
    "attention_indices = nonnan_indices.where(nonnan_indices == True).dropna()\n",
    "attention_indices_list = list(attention_indices.index)\n",
    "attention_indices_list"
   ]
  },
  {
   "cell_type": "markdown",
   "metadata": {},
   "source": [
    "b) consistently chose one option "
   ]
  },
  {
   "cell_type": "code",
   "execution_count": 35,
   "metadata": {},
   "outputs": [
    {
     "data": {
      "text/plain": [
       "7"
      ]
     },
     "execution_count": 35,
     "metadata": {},
     "output_type": "execute_result"
    }
   ],
   "source": [
    "np.sum(~np.isnan(FollowUpStudymatrixDf_7Credit['InterTemporalTask_alwayschoose1or2']))"
   ]
  },
  {
   "cell_type": "markdown",
   "metadata": {},
   "source": [
    "7 subjects excluded and their index:"
   ]
  },
  {
   "cell_type": "code",
   "execution_count": 47,
   "metadata": {},
   "outputs": [
    {
     "data": {
      "text/plain": [
       "[5, 16, 24, 33, 46, 63, 88]"
      ]
     },
     "execution_count": 47,
     "metadata": {},
     "output_type": "execute_result"
    }
   ],
   "source": [
    "nonnan_indices = pd.notnull(FollowUpStudymatrixDf_7Credit['InterTemporalTask_alwayschoose1or2'])\n",
    "choseoneoption_indices = nonnan_indices.where(nonnan_indices == True).dropna()\n",
    "choseoneoption_indices_list = list(choseoneoption_indices.index)\n",
    "choseoneoption_indices_list"
   ]
  },
  {
   "cell_type": "markdown",
   "metadata": {},
   "source": [
    "unique index in a) and b) criteria"
   ]
  },
  {
   "cell_type": "code",
   "execution_count": 54,
   "metadata": {},
   "outputs": [
    {
     "data": {
      "text/plain": [
       "[5, 16, 17, 24, 33, 46, 63, 81, 88]"
      ]
     },
     "execution_count": 54,
     "metadata": {},
     "output_type": "execute_result"
    }
   ],
   "source": [
    "unique_excluded_index=list(np.unique(attention_indices_list+choseoneoption_indices_list))\n",
    "unique_excluded_index"
   ]
  },
  {
   "cell_type": "code",
   "execution_count": 59,
   "metadata": {},
   "outputs": [
    {
     "data": {
      "text/plain": [
       "9"
      ]
     },
     "execution_count": 59,
     "metadata": {},
     "output_type": "execute_result"
    }
   ],
   "source": [
    "len(unique_excluded_index)"
   ]
  },
  {
   "cell_type": "markdown",
   "metadata": {},
   "source": [
    "in total there are 9 participants who are excluded based on criteria a) and b)"
   ]
  },
  {
   "cell_type": "markdown",
   "metadata": {},
   "source": [
    "c) responded randomly\n",
    "No participant is excluded as a random responder. All 84 subjects passed the quality control test, allowing us to include all of them in our hypothesis testing. "
   ]
  },
  {
   "cell_type": "markdown",
   "metadata": {},
   "source": [
    "## final sample (N=84)"
   ]
  },
  {
   "cell_type": "markdown",
   "metadata": {},
   "source": [
    "### geometric information"
   ]
  },
  {
   "cell_type": "code",
   "execution_count": 76,
   "metadata": {},
   "outputs": [],
   "source": [
    "final_sample = FollowUpStudymatrixDf_7Credit[FollowUpStudymatrixDf_7Credit['DiscountRate_lnk'].notnull()]"
   ]
  },
  {
   "cell_type": "code",
   "execution_count": 81,
   "metadata": {},
   "outputs": [
    {
     "data": {
      "text/plain": [
       "84"
      ]
     },
     "execution_count": 81,
     "metadata": {},
     "output_type": "execute_result"
    }
   ],
   "source": [
    "len(final_sample)"
   ]
  },
  {
   "cell_type": "code",
   "execution_count": 82,
   "metadata": {},
   "outputs": [
    {
     "name": "stdout",
     "output_type": "stream",
     "text": [
      "19.36144578313253\n"
     ]
    },
    {
     "data": {
      "text/plain": [
       "1.4191318681182254"
      ]
     },
     "execution_count": 82,
     "metadata": {},
     "output_type": "execute_result"
    }
   ],
   "source": [
    "print(np.mean(final_sample['age_year']))\n",
    "np.std(final_sample['age_year'])"
   ]
  },
  {
   "cell_type": "markdown",
   "metadata": {},
   "source": [
    "number of females (gender: female=2, male=1, non-binary=3, NaN: unknown (the subject did not answer)"
   ]
  },
  {
   "cell_type": "code",
   "execution_count": 50,
   "metadata": {},
   "outputs": [
    {
     "data": {
      "text/plain": [
       "53"
      ]
     },
     "execution_count": 50,
     "metadata": {},
     "output_type": "execute_result"
    }
   ],
   "source": [
    "len(final_sample[final_sample['gender']==2])"
   ]
  },
  {
   "cell_type": "code",
   "execution_count": 53,
   "metadata": {},
   "outputs": [
    {
     "data": {
      "text/plain": [
       "2"
      ]
     },
     "execution_count": 53,
     "metadata": {},
     "output_type": "execute_result"
    }
   ],
   "source": [
    "len(final_sample[final_sample['gender']==3])"
   ]
  },
  {
   "cell_type": "code",
   "execution_count": 54,
   "metadata": {},
   "outputs": [
    {
     "data": {
      "text/plain": [
       "28"
      ]
     },
     "execution_count": 54,
     "metadata": {},
     "output_type": "execute_result"
    }
   ],
   "source": [
    "len(final_sample[final_sample['gender']==1])"
   ]
  },
  {
   "cell_type": "code",
   "execution_count": 52,
   "metadata": {},
   "outputs": [
    {
     "data": {
      "text/plain": [
       "array([ 1.,  2.,  3., nan])"
      ]
     },
     "execution_count": 52,
     "metadata": {},
     "output_type": "execute_result"
    }
   ],
   "source": [
    "np.unique(final_sample['gender'])"
   ]
  },
  {
   "cell_type": "markdown",
   "metadata": {},
   "source": [
    "### individual variability in level of procrastination"
   ]
  },
  {
   "cell_type": "code",
   "execution_count": 28,
   "metadata": {},
   "outputs": [
    {
     "data": {
      "text/plain": [
       "19.071428571428573"
      ]
     },
     "execution_count": 28,
     "metadata": {},
     "output_type": "execute_result"
    }
   ],
   "source": [
    "min(final_sample['MUCD'])"
   ]
  },
  {
   "cell_type": "code",
   "execution_count": 29,
   "metadata": {},
   "outputs": [
    {
     "data": {
      "text/plain": [
       "100.92857142857143"
      ]
     },
     "execution_count": 29,
     "metadata": {},
     "output_type": "execute_result"
    }
   ],
   "source": [
    "max(final_sample['MUCD'])"
   ]
  },
  {
   "cell_type": "code",
   "execution_count": 30,
   "metadata": {},
   "outputs": [
    {
     "data": {
      "text/plain": [
       "49.59523809523811"
      ]
     },
     "execution_count": 30,
     "metadata": {},
     "output_type": "execute_result"
    }
   ],
   "source": [
    "np.mean(final_sample['MUCD'])"
   ]
  },
  {
   "cell_type": "code",
   "execution_count": 31,
   "metadata": {},
   "outputs": [
    {
     "data": {
      "text/plain": [
       "18.157789978316842"
      ]
     },
     "execution_count": 31,
     "metadata": {},
     "output_type": "execute_result"
    }
   ],
   "source": [
    "np.std(final_sample['MUCD'])"
   ]
  },
  {
   "cell_type": "markdown",
   "metadata": {},
   "source": [
    "### correlation between PASS score and indices of procrastination"
   ]
  },
  {
   "cell_type": "code",
   "execution_count": 32,
   "metadata": {},
   "outputs": [
    {
     "data": {
      "text/html": [
       "<div>\n",
       "<style scoped>\n",
       "    .dataframe tbody tr th:only-of-type {\n",
       "        vertical-align: middle;\n",
       "    }\n",
       "\n",
       "    .dataframe tbody tr th {\n",
       "        vertical-align: top;\n",
       "    }\n",
       "\n",
       "    .dataframe thead th {\n",
       "        text-align: right;\n",
       "    }\n",
       "</style>\n",
       "<table border=\"1\" class=\"dataframe\">\n",
       "  <thead>\n",
       "    <tr style=\"text-align: right;\">\n",
       "      <th></th>\n",
       "      <th>AcadeProcFreq_mean</th>\n",
       "      <th>MUCD</th>\n",
       "      <th>HalfwayDayofParticipation</th>\n",
       "      <th>TaskCompletionDay</th>\n",
       "      <th>creditlast5weeks</th>\n",
       "    </tr>\n",
       "  </thead>\n",
       "  <tbody>\n",
       "    <tr>\n",
       "      <th>AcadeProcFreq_mean</th>\n",
       "      <td>-</td>\n",
       "      <td>0.00006</td>\n",
       "      <td>0.00007</td>\n",
       "      <td>0.00464</td>\n",
       "      <td>0.00011</td>\n",
       "    </tr>\n",
       "    <tr>\n",
       "      <th>MUCD</th>\n",
       "      <td>0.42463</td>\n",
       "      <td>-</td>\n",
       "      <td>0.00000</td>\n",
       "      <td>0.00000</td>\n",
       "      <td>0.00000</td>\n",
       "    </tr>\n",
       "    <tr>\n",
       "      <th>HalfwayDayofParticipation</th>\n",
       "      <td>0.42154</td>\n",
       "      <td>0.93253</td>\n",
       "      <td>-</td>\n",
       "      <td>0.00000</td>\n",
       "      <td>0.00000</td>\n",
       "    </tr>\n",
       "    <tr>\n",
       "      <th>TaskCompletionDay</th>\n",
       "      <td>0.30602</td>\n",
       "      <td>0.79042</td>\n",
       "      <td>0.72138</td>\n",
       "      <td>-</td>\n",
       "      <td>0.00000</td>\n",
       "    </tr>\n",
       "    <tr>\n",
       "      <th>creditlast5weeks</th>\n",
       "      <td>0.40923</td>\n",
       "      <td>0.91755</td>\n",
       "      <td>0.83809</td>\n",
       "      <td>0.70198</td>\n",
       "      <td>-</td>\n",
       "    </tr>\n",
       "  </tbody>\n",
       "</table>\n",
       "</div>"
      ],
      "text/plain": [
       "                          AcadeProcFreq_mean     MUCD  \\\n",
       "AcadeProcFreq_mean                         -  0.00006   \n",
       "MUCD                                 0.42463        -   \n",
       "HalfwayDayofParticipation            0.42154  0.93253   \n",
       "TaskCompletionDay                    0.30602  0.79042   \n",
       "creditlast5weeks                     0.40923  0.91755   \n",
       "\n",
       "                          HalfwayDayofParticipation TaskCompletionDay  \\\n",
       "AcadeProcFreq_mean                          0.00007           0.00464   \n",
       "MUCD                                        0.00000           0.00000   \n",
       "HalfwayDayofParticipation                         -           0.00000   \n",
       "TaskCompletionDay                           0.72138                 -   \n",
       "creditlast5weeks                            0.83809           0.70198   \n",
       "\n",
       "                          creditlast5weeks  \n",
       "AcadeProcFreq_mean                 0.00011  \n",
       "MUCD                               0.00000  \n",
       "HalfwayDayofParticipation          0.00000  \n",
       "TaskCompletionDay                  0.00000  \n",
       "creditlast5weeks                         -  "
      ]
     },
     "execution_count": 32,
     "metadata": {},
     "output_type": "execute_result"
    }
   ],
   "source": [
    "final_sample.loc[:,['AcadeProcFreq_mean','MUCD','HalfwayDayofParticipation','TaskCompletionDay','creditlast5weeks']].rcorr(stars=False, decimals=5)\n"
   ]
  },
  {
   "cell_type": "markdown",
   "metadata": {},
   "source": [
    "### correlation between discount rate lnk and indices of procrastination"
   ]
  },
  {
   "cell_type": "code",
   "execution_count": 33,
   "metadata": {},
   "outputs": [
    {
     "data": {
      "text/plain": [
       "-7.8674761"
      ]
     },
     "execution_count": 33,
     "metadata": {},
     "output_type": "execute_result"
    }
   ],
   "source": [
    "min(final_sample['DiscountRate_lnk'])"
   ]
  },
  {
   "cell_type": "code",
   "execution_count": 34,
   "metadata": {},
   "outputs": [
    {
     "data": {
      "text/plain": [
       "-1.386177856"
      ]
     },
     "execution_count": 34,
     "metadata": {},
     "output_type": "execute_result"
    }
   ],
   "source": [
    "max(final_sample['DiscountRate_lnk'])"
   ]
  },
  {
   "cell_type": "markdown",
   "metadata": {},
   "source": [
    "discount rates, which ranged from −7.87 to −1.39 "
   ]
  },
  {
   "cell_type": "code",
   "execution_count": 79,
   "metadata": {},
   "outputs": [
    {
     "data": {
      "text/html": [
       "<div>\n",
       "<style scoped>\n",
       "    .dataframe tbody tr th:only-of-type {\n",
       "        vertical-align: middle;\n",
       "    }\n",
       "\n",
       "    .dataframe tbody tr th {\n",
       "        vertical-align: top;\n",
       "    }\n",
       "\n",
       "    .dataframe thead th {\n",
       "        text-align: right;\n",
       "    }\n",
       "</style>\n",
       "<table border=\"1\" class=\"dataframe\">\n",
       "  <thead>\n",
       "    <tr style=\"text-align: right;\">\n",
       "      <th></th>\n",
       "      <th>DiscountRate_lnk</th>\n",
       "      <th>MUCD</th>\n",
       "      <th>HalfwayDayofParticipation</th>\n",
       "      <th>TaskCompletionDay</th>\n",
       "      <th>creditlast5weeks</th>\n",
       "    </tr>\n",
       "  </thead>\n",
       "  <tbody>\n",
       "    <tr>\n",
       "      <th>DiscountRate_lnk</th>\n",
       "      <td>-</td>\n",
       "      <td>0.00927</td>\n",
       "      <td>0.00915</td>\n",
       "      <td>0.06089</td>\n",
       "      <td>0.03006</td>\n",
       "    </tr>\n",
       "    <tr>\n",
       "      <th>MUCD</th>\n",
       "      <td>0.28232</td>\n",
       "      <td>-</td>\n",
       "      <td>0.00000</td>\n",
       "      <td>0.00000</td>\n",
       "      <td>0.00000</td>\n",
       "    </tr>\n",
       "    <tr>\n",
       "      <th>HalfwayDayofParticipation</th>\n",
       "      <td>0.28277</td>\n",
       "      <td>0.93253</td>\n",
       "      <td>-</td>\n",
       "      <td>0.00000</td>\n",
       "      <td>0.00000</td>\n",
       "    </tr>\n",
       "    <tr>\n",
       "      <th>TaskCompletionDay</th>\n",
       "      <td>0.20539</td>\n",
       "      <td>0.79042</td>\n",
       "      <td>0.72138</td>\n",
       "      <td>-</td>\n",
       "      <td>0.00000</td>\n",
       "    </tr>\n",
       "    <tr>\n",
       "      <th>creditlast5weeks</th>\n",
       "      <td>0.23686</td>\n",
       "      <td>0.91755</td>\n",
       "      <td>0.83809</td>\n",
       "      <td>0.70198</td>\n",
       "      <td>-</td>\n",
       "    </tr>\n",
       "  </tbody>\n",
       "</table>\n",
       "</div>"
      ],
      "text/plain": [
       "                          DiscountRate_lnk     MUCD HalfwayDayofParticipation  \\\n",
       "DiscountRate_lnk                         -  0.00927                   0.00915   \n",
       "MUCD                               0.28232        -                   0.00000   \n",
       "HalfwayDayofParticipation          0.28277  0.93253                         -   \n",
       "TaskCompletionDay                  0.20539  0.79042                   0.72138   \n",
       "creditlast5weeks                   0.23686  0.91755                   0.83809   \n",
       "\n",
       "                          TaskCompletionDay creditlast5weeks  \n",
       "DiscountRate_lnk                    0.06089          0.03006  \n",
       "MUCD                                0.00000          0.00000  \n",
       "HalfwayDayofParticipation           0.00000          0.00000  \n",
       "TaskCompletionDay                         -          0.00000  \n",
       "creditlast5weeks                    0.70198                -  "
      ]
     },
     "execution_count": 79,
     "metadata": {},
     "output_type": "execute_result"
    }
   ],
   "source": [
    "final_sample.loc[:,['DiscountRate_lnk','MUCD','HalfwayDayofParticipation','TaskCompletionDay','creditlast5weeks']].rcorr(stars=False, decimals=5)\n"
   ]
  },
  {
   "cell_type": "markdown",
   "metadata": {},
   "source": [
    "### correlation between PASS and discount rate"
   ]
  },
  {
   "cell_type": "code",
   "execution_count": 36,
   "metadata": {},
   "outputs": [
    {
     "data": {
      "text/html": [
       "<div>\n",
       "<style scoped>\n",
       "    .dataframe tbody tr th:only-of-type {\n",
       "        vertical-align: middle;\n",
       "    }\n",
       "\n",
       "    .dataframe tbody tr th {\n",
       "        vertical-align: top;\n",
       "    }\n",
       "\n",
       "    .dataframe thead th {\n",
       "        text-align: right;\n",
       "    }\n",
       "</style>\n",
       "<table border=\"1\" class=\"dataframe\">\n",
       "  <thead>\n",
       "    <tr style=\"text-align: right;\">\n",
       "      <th></th>\n",
       "      <th>DiscountRate_lnk</th>\n",
       "      <th>AcadeProcFreq_mean</th>\n",
       "    </tr>\n",
       "  </thead>\n",
       "  <tbody>\n",
       "    <tr>\n",
       "      <th>DiscountRate_lnk</th>\n",
       "      <td>-</td>\n",
       "      <td>0.05618</td>\n",
       "    </tr>\n",
       "    <tr>\n",
       "      <th>AcadeProcFreq_mean</th>\n",
       "      <td>0.20918</td>\n",
       "      <td>-</td>\n",
       "    </tr>\n",
       "  </tbody>\n",
       "</table>\n",
       "</div>"
      ],
      "text/plain": [
       "                   DiscountRate_lnk AcadeProcFreq_mean\n",
       "DiscountRate_lnk                  -            0.05618\n",
       "AcadeProcFreq_mean          0.20918                  -"
      ]
     },
     "execution_count": 36,
     "metadata": {},
     "output_type": "execute_result"
    }
   ],
   "source": [
    "final_sample.loc[:,['DiscountRate_lnk','AcadeProcFreq_mean']].rcorr(stars=False, decimals=5)\n"
   ]
  },
  {
   "cell_type": "markdown",
   "metadata": {},
   "source": [
    "### correlation between risk attitude and MUCD"
   ]
  },
  {
   "cell_type": "code",
   "execution_count": 85,
   "metadata": {},
   "outputs": [
    {
     "data": {
      "text/plain": [
       "91"
      ]
     },
     "execution_count": 85,
     "metadata": {},
     "output_type": "execute_result"
    }
   ],
   "source": [
    "len(FollowUpStudymatrixDf_7Credit)-sum(np.isnan(FollowUpStudymatrixDf_7Credit['RiskAttitude_lnAlpha']))"
   ]
  },
  {
   "cell_type": "code",
   "execution_count": 83,
   "metadata": {},
   "outputs": [
    {
     "data": {
      "text/html": [
       "<div>\n",
       "<style scoped>\n",
       "    .dataframe tbody tr th:only-of-type {\n",
       "        vertical-align: middle;\n",
       "    }\n",
       "\n",
       "    .dataframe tbody tr th {\n",
       "        vertical-align: top;\n",
       "    }\n",
       "\n",
       "    .dataframe thead th {\n",
       "        text-align: right;\n",
       "    }\n",
       "</style>\n",
       "<table border=\"1\" class=\"dataframe\">\n",
       "  <thead>\n",
       "    <tr style=\"text-align: right;\">\n",
       "      <th></th>\n",
       "      <th>MUCD</th>\n",
       "      <th>RiskAttitude_lnAlpha</th>\n",
       "      <th>RiskTakingScore</th>\n",
       "    </tr>\n",
       "  </thead>\n",
       "  <tbody>\n",
       "    <tr>\n",
       "      <th>MUCD</th>\n",
       "      <td>-</td>\n",
       "      <td>0.74868</td>\n",
       "      <td>0.2517</td>\n",
       "    </tr>\n",
       "    <tr>\n",
       "      <th>RiskAttitude_lnAlpha</th>\n",
       "      <td>0.03405</td>\n",
       "      <td>-</td>\n",
       "      <td>0.42943</td>\n",
       "    </tr>\n",
       "    <tr>\n",
       "      <th>RiskTakingScore</th>\n",
       "      <td>-0.12072</td>\n",
       "      <td>0.08432</td>\n",
       "      <td>-</td>\n",
       "    </tr>\n",
       "  </tbody>\n",
       "</table>\n",
       "</div>"
      ],
      "text/plain": [
       "                          MUCD RiskAttitude_lnAlpha RiskTakingScore\n",
       "MUCD                         -              0.74868          0.2517\n",
       "RiskAttitude_lnAlpha   0.03405                    -         0.42943\n",
       "RiskTakingScore       -0.12072              0.08432               -"
      ]
     },
     "execution_count": 83,
     "metadata": {},
     "output_type": "execute_result"
    }
   ],
   "source": [
    "FollowUpStudymatrixDf_7Credit.loc[:,['MUCD','RiskAttitude_lnAlpha','RiskTakingScore']].rcorr(stars=False, decimals=5)\n"
   ]
  },
  {
   "cell_type": "markdown",
   "metadata": {},
   "source": [
    "### figures"
   ]
  },
  {
   "cell_type": "markdown",
   "metadata": {},
   "source": [
    "Figure A"
   ]
  },
  {
   "cell_type": "code",
   "execution_count": 49,
   "metadata": {},
   "outputs": [
    {
     "name": "stdout",
     "output_type": "stream",
     "text": [
      "47\n",
      "MUCD 19.071428571428573\n",
      "HalfwayDayofParticipation 23.0\n",
      "creditlast5weeks 0.0\n",
      "task completion day 25\n",
      "64\n",
      "MUCD 48.142857142857146\n",
      "HalfwayDayofParticipation 39.0\n",
      "creditlast5weeks 1.0\n",
      "task completion day 96\n",
      "creditlast5weeks1.0\n",
      "37\n",
      "MUCD 100.92857142857143\n",
      "HalfwayDayofParticipation 102.0\n",
      "creditlast5weeks 7.0\n",
      "task completion day 103\n",
      "creditlast5weeks7.0\n"
     ]
    },
    {
     "data": {
      "image/png": "[encoded data removed]",
      "text/plain": [
       "<Figure size 432x576 with 3 Axes>"
      ]
     },
     "metadata": {
      "needs_background": "light"
     },
     "output_type": "display_data"
    }
   ],
   "source": [
    "# least procrastinator\n",
    "sorted_column = final_sample['MUCD'].sort_values()\n",
    "index = sorted_column.index[0] # the subject index with the smallest MUCD \n",
    "print(index)\n",
    "TimeCourse = final_sample['DeltaProgForMPCD'][index]\n",
    "TimeCourse = np.array(TimeCourse)\n",
    "# index 0 means day0 (did not exist in the real-world, I added because I want MUCD to represent 1st day credit*1 (1 means day1), index 1 means day 1, the 1st day of the semester\n",
    "NthDay = np.nonzero(TimeCourse)[0] \n",
    "CreditList = TimeCourse[NthDay]\n",
    "\n",
    "x = NthDay\n",
    "y = CreditList\n",
    "\n",
    "lines = []\n",
    "for i in range(len(x)):\n",
    "    pair=[(x[i],0), (x[i], y[i])]\n",
    "    lines.append(pair)\n",
    "\n",
    "linecoll = matcoll.LineCollection(lines,colors='k')\n",
    "fig, ax = plt.subplots(3,1,figsize=(6, 8))\n",
    "ax[0].add_collection(linecoll)\n",
    "ax[0].scatter(x,y,color='k')\n",
    "\n",
    "MUCD = final_sample['MUCD'][index]\n",
    "DayHalfPoint = final_sample['HalfwayDayofParticipation'][index]\n",
    "creditlast5weeks = final_sample['creditlast5weeks'][index]\n",
    "TaskCompletionDay = final_sample['TaskCompletionDay'][index]\n",
    "\n",
    "ax[0].scatter(MUCD,3.3,marker=\"v\",color='#3182bd',s=100)\n",
    "#ax[0].scatter(DayHalfPoint,3.3,marker=\"v\",color='#fdae6b')\n",
    "#ax[0].scatter(TaskCompletionDay,3.3,marker=\"v\",color='#fee6ce')\n",
    "\n",
    "print('MUCD ' + str(MUCD))\n",
    "print('HalfwayDayofParticipation ' + str(DayHalfPoint))\n",
    "print('creditlast5weeks ' + str(creditlast5weeks))\n",
    "print('task completion day ' +str(TaskCompletionDay))\n",
    "\n",
    "ax[0].set_xticks(np.arange(1,110,12))\n",
    "ax[0].set_yticks(np.arange(0,3.5,0.5))\n",
    "ax[0].set_yticklabels(['0','','1','','2','','3',''])\n",
    "ax[0].set_xlim([0.2,109.2])\n",
    "ax[0].set_ylim([0,3.5])\n",
    "ax[0].tick_params(axis='x', labelsize=14)\n",
    "ax[0].tick_params(axis='y', labelsize=14)\n",
    "ax[0].spines['top'].set_visible(False)\n",
    "ax[0].spines['right'].set_visible(False)\n",
    "#ax[0].set_xlabel('day of the semester')\n",
    "#ax[0].set_ylabel('length of research participation (hour)')\n",
    "\n",
    "#-------------\n",
    "\n",
    "# around middle procrastinator \n",
    "index = 64\n",
    "print(index)\n",
    "TimeCourse = final_sample['DeltaProgForMPCD'][index]\n",
    "TimeCourse = np.array(TimeCourse)\n",
    "# index 0 means day0 (did not exist in the real-world, I added because I want MUCD to represent 1st day credit*1 (1 means day1), index 1 means day 1, the 1st day of the semester\n",
    "NthDay = np.nonzero(TimeCourse)[0] \n",
    "CreditList = TimeCourse[NthDay]\n",
    "\n",
    "x = NthDay\n",
    "y = CreditList\n",
    "\n",
    "lines = []\n",
    "for i in range(len(x)):\n",
    "    pair=[(x[i],0), (x[i], y[i])]\n",
    "    lines.append(pair)\n",
    "\n",
    "linecoll = matcoll.LineCollection(lines,colors='k')\n",
    "#fig, ax = plt.subplots()\n",
    "ax[1].add_collection(linecoll)\n",
    "ax[1].scatter(x,y,color='k')\n",
    "\n",
    "MUCD = final_sample['MUCD'][index]\n",
    "DayHalfPoint = final_sample['HalfwayDayofParticipation'][index]\n",
    "creditlast5weeks = final_sample['creditlast5weeks'][index]\n",
    "TaskCompletionDay = final_sample['TaskCompletionDay'][index]\n",
    "\n",
    "print('MUCD ' + str(MUCD))\n",
    "print('HalfwayDayofParticipation ' + str(DayHalfPoint))\n",
    "print('creditlast5weeks ' + str(creditlast5weeks))\n",
    "print('task completion day ' +str(TaskCompletionDay))\n",
    "\n",
    "ax[1].scatter(MUCD,3.3,marker=\"v\",color='#3182bd',s=100)\n",
    "#ax[1].scatter(DayHalfPoint,3.3,marker=\"v\",color='#fdae6b')\n",
    "#ax[1].scatter(TaskCompletionDay,3.3,marker=\"v\",color='#fee6ce')\n",
    "print('creditlast5weeks' + str(creditlast5weeks))\n",
    "\n",
    "ax[1].set_xticks(np.arange(1,110,12))\n",
    "ax[1].set_yticks(np.arange(0,3.5,0.5))\n",
    "ax[1].set_yticklabels(['0','','1','','2','','3',''])\n",
    "ax[1].set_xlim([0.2,109.2])\n",
    "ax[1].set_ylim([0,3.5])\n",
    "ax[1].set_ylabel('Hours of research participation per day',fontsize=16)\n",
    "ax[1].tick_params(axis='x', labelsize=14)\n",
    "ax[1].tick_params(axis='y', labelsize=14)\n",
    "ax[1].spines['top'].set_visible(False)\n",
    "ax[1].spines['right'].set_visible(False)\n",
    "\n",
    "#--------------\n",
    "\n",
    "# most procrastinator\n",
    "sorted_column = final_sample['MUCD'].sort_values()\n",
    "index = sorted_column.index[-1] \n",
    "print(index)\n",
    "TimeCourse = final_sample['DeltaProgForMPCD'][index]\n",
    "TimeCourse = np.array(TimeCourse)\n",
    "# index 0 means day0 (did not exist in the real-world, I added because I want MUCD to represent 1st day credit*1 (1 means day1), index 1 means day 1, the 1st day of the semester\n",
    "NthDay = np.nonzero(TimeCourse)[0] \n",
    "CreditList = TimeCourse[NthDay]\n",
    "\n",
    "x = NthDay\n",
    "y = CreditList\n",
    "\n",
    "lines = []\n",
    "for i in range(len(x)):\n",
    "    pair=[(x[i],0), (x[i], y[i])]\n",
    "    lines.append(pair)\n",
    "\n",
    "linecoll = matcoll.LineCollection(lines,colors='k')\n",
    "#fig, ax = plt.subplots()\n",
    "ax[2].add_collection(linecoll)\n",
    "ax[2].scatter(x,y,color='k')\n",
    "\n",
    "MUCD = final_sample['MUCD'][index]\n",
    "DayHalfPoint = final_sample['HalfwayDayofParticipation'][index]\n",
    "creditlast5weeks = final_sample['creditlast5weeks'][index]\n",
    "TaskCompletionDay = final_sample['TaskCompletionDay'][index]\n",
    "\n",
    "print('MUCD ' + str(MUCD))\n",
    "print('HalfwayDayofParticipation ' + str(DayHalfPoint))\n",
    "print('creditlast5weeks ' + str(creditlast5weeks))\n",
    "print('task completion day ' +str(TaskCompletionDay))\n",
    "\n",
    "ax[2].scatter(MUCD,3.3,marker=\"v\",color='#3182bd',s=100)\n",
    "#ax[2].scatter(DayHalfPoint,3.3,marker=\"v\",color='#fdae6b')\n",
    "#ax[2].scatter(TaskCompletionDay,3.3,marker=\"v\",color='#fee6ce')\n",
    "\n",
    "print('creditlast5weeks' + str(creditlast5weeks))\n",
    "#print(MPCD)\n",
    "#print(DayHalfPoint)\n",
    "ax[2].set_xticks(np.arange(1,110,12))\n",
    "ax[2].set_yticks(np.arange(0,3.5,0.5))\n",
    "ax[2].set_yticklabels(['0','','1','','2','','3',''])\n",
    "ax[2].set_xlim([0.2,109.2])\n",
    "ax[2].set_ylim([0,3.5])\n",
    "ax[2].set_xlabel('Day in the semester',fontsize=16)\n",
    "ax[2].tick_params(axis='x', labelsize=14)\n",
    "ax[2].tick_params(axis='y', labelsize=14)\n",
    "ax[2].spines['top'].set_visible(False)\n",
    "ax[2].spines['right'].set_visible(False)\n",
    "\n",
    "plt.show()\n",
    "#fig.savefig(\"Paper time course of progress.pdf\", transparent=True)\n",
    "#fig.savefig('raw time course of progress.eps', format='eps')"
   ]
  },
  {
   "cell_type": "code",
   "execution_count": 45,
   "metadata": {},
   "outputs": [
    {
     "data": {
      "image/png": "[encoded data removed]",
      "text/plain": [
       "<Figure size 432x288 with 1 Axes>"
      ]
     },
     "metadata": {
      "needs_background": "light"
     },
     "output_type": "display_data"
    }
   ],
   "source": [
    "# plotted in examples of time course of progress, three examples, least, intermediate, most procrastinators.\n",
    "fig, ax = plt.subplots()\n",
    "leastproc_index = 47\n",
    "intermepro_index= 64\n",
    "mostpro_index = 37\n",
    "for index in final_sample.index:\n",
    "    ax.plot(np.cumsum(final_sample['DeltaProgForMPCD'][index]),color='#bdbdbd')\n",
    "\n",
    "ax.plot(np.cumsum(final_sample['DeltaProgForMPCD'][leastproc_index]),color='#fcae91',label='low procrastination') \n",
    "ax.plot(np.cumsum(final_sample['DeltaProgForMPCD'][intermepro_index]),color='#fb6a4a',label='intermediate procrastination') \n",
    "ax.plot(np.cumsum(final_sample['DeltaProgForMPCD'][mostpro_index]),color='#cb181d',label='high procrastination') \n",
    "    \n",
    "ax.set_xlabel('Day in the semester',fontsize=16)\n",
    "ax.set_ylabel('Total hours of research participation',fontsize=16)\n",
    "#plt.legend('least procrastintator','intermediate procrastinator','most procrastinator')\n",
    "ax.legend(loc='best', bbox_to_anchor=(1, 0.2, 0.5, 0.5),fontsize=14,frameon=False)\n",
    "#ax.legend(frameon=False)\n",
    "ax.set_xticks(np.arange(1,110,12))\n",
    "ax.set_xlim([0.9,109.1])\n",
    "ax.set_yticks(np.arange(0,7.01,1))\n",
    "ax.set_ylim([0,7.01])\n",
    "ax.tick_params(axis='x', labelsize=14)\n",
    "ax.tick_params(axis='y', labelsize=14)\n",
    "ax.spines['top'].set_visible(False)\n",
    "ax.spines['right'].set_visible(False)\n",
    "#plt.savefig(\"paper figure_cumulative progress.pdf\", transparent=True)\n",
    "plt.show()"
   ]
  },
  {
   "cell_type": "code",
   "execution_count": 46,
   "metadata": {},
   "outputs": [
    {
     "data": {
      "image/png": "[encoded data removed]",
      "text/plain": [
       "<Figure size 432x288 with 1 Axes>"
      ]
     },
     "metadata": {
      "needs_background": "light"
     },
     "output_type": "display_data"
    }
   ],
   "source": [
    "fig, ax = plt.subplots()\n",
    "ax.hist(final_sample['MUCD'],bins=35,color='white',edgecolor = \"black\")\n",
    "#ax[1].hist(FollowUpStudymatrixDf_removeNOFOUND_loose7Credit['HalfwayDayofParticipation'],bins=40,color='k',edgecolor = \"white\")\n",
    "#ax[2].hist(FollowUpStudymatrixDf_removeNOFOUND_loose7Credit['TaskCompletionDay'],bins=40,color='k',edgecolor = \"white\")\n",
    "#ax[3].hist(FollowUpStudymatrixDf_removeNOFOUND_loose7Credit['creditlast5weeks'],bins=40,color='k',edgecolor = \"white\")\n",
    "ax.set_ylabel('Number of participants',fontsize=16)\n",
    "\n",
    "ax.set_xlabel('Mean unit completion day',fontsize=16)\n",
    "ax.spines['top'].set_visible(False)\n",
    "ax.spines['right'].set_visible(False)\n",
    "ax.set_yticks([0,2,4,6,8,10])\n",
    "#ax.tick_params(axis='x', labelsize=14)\n",
    "#ax.tick_params(axis='y', labelsize=14)\n",
    "ax.set_yticklabels(['0','2','4','6','8','10'],fontsize=14)\n",
    "ax.set_xticks([20,40,60,80,100])\n",
    "ax.set_xticklabels(['20','40','60','80','100'],fontsize=14)\n",
    "\n",
    "#plt.savefig(\"paper histogram of MUCD.pdf\", transparent=True)\n",
    "plt.show()"
   ]
  },
  {
   "cell_type": "code",
   "execution_count": 47,
   "metadata": {},
   "outputs": [
    {
     "data": {
      "image/png": "[encoded data removed]",
      "text/plain": [
       "<Figure size 432x288 with 1 Axes>"
      ]
     },
     "metadata": {
      "needs_background": "light"
     },
     "output_type": "display_data"
    }
   ],
   "source": [
    "fig, ax = plt.subplots()\n",
    "ax.hist(final_sample['DiscountRate_lnk'],bins=35,color='white',edgecolor = \"black\")\n",
    "ax.set_ylabel('Number of participants',fontsize=16)\n",
    "\n",
    "#ax.set_xlabel('Discount rate $\\ln(k)$',fontsize=16)\n",
    "ax.set_xlabel('Discount rate (natural log-transformed)',fontsize=16)\n",
    "ax.spines['top'].set_visible(False)\n",
    "ax.spines['right'].set_visible(False)\n",
    "ax.set_yticks([0,2,4,6,8,10])\n",
    "#ax.tick_params(axis='x', labelsize=14)\n",
    "#ax.tick_params(axis='y', labelsize=14)\n",
    "ax.set_yticklabels(['0','2','4','6','8','10'],fontsize=14)\n",
    "ax.set_xticks([-8,-7,-6,-5,-4,-3,-2,-1])\n",
    "ax.set_xticklabels(['-8','-7','-6','-5','-4','-3','-2','-1'],fontsize=14)\n",
    "\n",
    "#plt.savefig(\"paper histogram of discount rate.pdf\", transparent=True)\n",
    "plt.show()\n"
   ]
  },
  {
   "cell_type": "code",
   "execution_count": 48,
   "metadata": {},
   "outputs": [
    {
     "data": {
      "image/png": "[encoded data removed]",
      "text/plain": [
       "<Figure size 432x288 with 1 Axes>"
      ]
     },
     "metadata": {
      "needs_background": "light"
     },
     "output_type": "display_data"
    }
   ],
   "source": [
    "fig, ax = plt.subplots()\n",
    "fontsizeN = 14 # for ticklables\n",
    "sns.regplot(ax=ax,x=\"DiscountRate_lnk\", y=\"MUCD\", data=final_sample, color='k');\n",
    "ax.set_xlabel('Discount rate (natural log-transformed)',fontsize=16)\n",
    "ax.set_ylabel('Mean unit completion day',fontsize=16)\n",
    "ax.set_yticks([20,40,60,80,100])\n",
    "ax.set_yticklabels(['20','40','60','80','100'],fontsize=fontsizeN)\n",
    "ax.set_xticks([-8,-7,-6,-5,-4,-3,-2,-1])\n",
    "ax.set_xticklabels(['-8','-7','-6','-5','-4','-3','-2','-1'],fontsize=fontsizeN)\n",
    "#ax[0].text(-8,90,'r=0.282',fontsize=14)\n",
    "#ax[0].text(-8,82,'p=0.009',fontsize=14)\n",
    "ax.spines['top'].set_visible(False)\n",
    "ax.spines['right'].set_visible(False)\n",
    "\n",
    "#plt.savefig(\"paper correlation.pdf\", transparent=True)\n",
    "plt.show()"
   ]
  },
  {
   "cell_type": "code",
   "execution_count": null,
   "metadata": {},
   "outputs": [],
   "source": []
  }
 ],
 "metadata": {
  "hide_input": false,
  "kernelspec": {
   "display_name": "Python 3",
   "language": "python",
   "name": "python3"
  },
  "language_info": {
   "codemirror_mode": {
    "name": "ipython",
    "version": 3
   },
   "file_extension": ".py",
   "mimetype": "text/x-python",
   "name": "python",
   "nbconvert_exporter": "python",
   "pygments_lexer": "ipython3",
   "version": "3.7.4"
  },
  "toc": {
   "base_numbering": 1,
   "nav_menu": {},
   "number_sections": true,
   "sideBar": true,
   "skip_h1_title": false,
   "title_cell": "Table of Contents",
   "title_sidebar": "Contents",
   "toc_cell": false,
   "toc_position": {
    "height": "calc(100% - 180px)",
    "left": "10px",
    "top": "150px",
    "width": "226.4px"
   },
   "toc_section_display": true,
   "toc_window_display": true
  },
  "varInspector": {
   "cols": {
    "lenName": 16,
    "lenType": 16,
    "lenVar": 40
   },
   "kernels_config": {
    "python": {
     "delete_cmd_postfix": "",
     "delete_cmd_prefix": "del ",
     "library": "var_list.py",
     "varRefreshCmd": "print(var_dic_list())"
    },
    "r": {
     "delete_cmd_postfix": ") ",
     "delete_cmd_prefix": "rm(",
     "library": "var_list.r",
     "varRefreshCmd": "cat(var_dic_list()) "
    }
   },
   "types_to_exclude": [
    "module",
    "function",
    "builtin_function_or_method",
    "instance",
    "_Feature"
   ],
   "window_display": false
  }
 },
 "nbformat": 4,
 "nbformat_minor": 2
}
